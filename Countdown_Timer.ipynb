{
  "nbformat": 4,
  "nbformat_minor": 0,
  "metadata": {
    "colab": {
      "provenance": [],
      "authorship_tag": "ABX9TyPeGUVqof8DC6OQY5BA4bbL",
      "include_colab_link": true
    },
    "kernelspec": {
      "name": "python3",
      "display_name": "Python 3"
    },
    "language_info": {
      "name": "python"
    }
  },
  "cells": [
    {
      "cell_type": "markdown",
      "metadata": {
        "id": "view-in-github",
        "colab_type": "text"
      },
      "source": [
        "<a href=\"https://colab.research.google.com/github/Eshalodhi/Assignment-04/blob/main/Countdown_Timer.ipynb\" target=\"_parent\"><img src=\"https://colab.research.google.com/assets/colab-badge.svg\" alt=\"Open In Colab\"/></a>"
      ]
    },
    {
      "cell_type": "markdown",
      "source": [
        "## Countdown Timer"
      ],
      "metadata": {
        "id": "HK3NbxEV7eLi"
      }
    },
    {
      "cell_type": "code",
      "execution_count": 6,
      "metadata": {
        "colab": {
          "base_uri": "https://localhost:8080/"
        },
        "id": "yfRbo0F-6vCE",
        "outputId": "cdd85ee4-104c-4cbf-ef9d-2db8cb313ad9"
      },
      "outputs": [
        {
          "output_type": "stream",
          "name": "stdout",
          "text": [
            "⏱️ Enter time in seconds for countdown: 6\n",
            "⏰ 00:00 \n",
            "⏳ Time is up! 🔔\n"
          ]
        }
      ],
      "source": [
        "import time\n",
        "\n",
        "def countdown(seconds):\n",
        "    while seconds > 0:\n",
        "        mins, secs = divmod(seconds, 60)\n",
        "        timeformat = '⏰ {:02d}:{:02d}'.format(mins, secs)\n",
        "        print(timeformat, end='\\r')\n",
        "        time.sleep(1)\n",
        "        seconds -= 1\n",
        "    print('⏰ 00:00 \\n⏳ Time is up! 🔔')\n",
        "\n",
        "try:\n",
        "    total_seconds = int(input('⏱️ Enter time in seconds for countdown: '))\n",
        "    countdown(total_seconds)\n",
        "except ValueError:\n",
        "    print(\"⚠️ Please enter a valid number.\")\n"
      ]
    }
  ]
}