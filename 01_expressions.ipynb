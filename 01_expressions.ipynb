{
  "nbformat": 4,
  "nbformat_minor": 0,
  "metadata": {
    "colab": {
      "provenance": [],
      "authorship_tag": "ABX9TyNswbvUEJ7WrwbPQ5Vv3fxF",
      "include_colab_link": true
    },
    "kernelspec": {
      "name": "python3",
      "display_name": "Python 3"
    },
    "language_info": {
      "name": "python"
    }
  },
  "cells": [
    {
      "cell_type": "markdown",
      "metadata": {
        "id": "view-in-github",
        "colab_type": "text"
      },
      "source": [
        "<a href=\"https://colab.research.google.com/github/Eshalodhi/Assignment-04/blob/main/01_expressions.ipynb\" target=\"_parent\"><img src=\"https://colab.research.google.com/assets/colab-badge.svg\" alt=\"Open In Colab\"/></a>"
      ]
    },
    {
      "cell_type": "markdown",
      "source": [
        "## 01_dicesimulator"
      ],
      "metadata": {
        "id": "G9yRUbnDRon0"
      }
    },
    {
      "cell_type": "code",
      "execution_count": 6,
      "metadata": {
        "colab": {
          "base_uri": "https://localhost:8080/"
        },
        "id": "xqHf_oMfRP4J",
        "outputId": "e239364f-8949-45b8-f387-a94ac048276a"
      },
      "outputs": [
        {
          "output_type": "stream",
          "name": "stdout",
          "text": [
            "dice1 in main() starts as: 10\n",
            "Total of two dices: 4\n",
            "Total of two dices: 8\n",
            "Total of two dices: 10\n",
            "dice1 in main() is: 10\n"
          ]
        }
      ],
      "source": [
        "import random\n",
        "\n",
        "def roll_dice():\n",
        "  dice1:int = random.randint(1,6)\n",
        "  dice2:int = random.randint(1,6)\n",
        "  total:int = dice1 + dice2\n",
        "  print(f\"Total of two dices: {total}\")\n",
        "\n",
        "def main():\n",
        "  dice1:int = 10\n",
        "  print(\"dice1 in main() starts as: \" + str(dice1))\n",
        "  roll_dice()\n",
        "  roll_dice()\n",
        "  roll_dice()\n",
        "  print(\"dice1 in main() is: \" + str(dice1))\n",
        "\n",
        "if __name__ == \"__main__\":\n",
        "  main()"
      ]
    },
    {
      "cell_type": "markdown",
      "source": [
        "## 02_e=mc2"
      ],
      "metadata": {
        "id": "JsoSEaWBUmT1"
      }
    },
    {
      "cell_type": "code",
      "source": [
        "def energy():\n",
        "  c:float = 299792458\n",
        "  m:float = float(input(\"Enter kilos of mass: \"))\n",
        "  print(\"e = m*c^2\")\n",
        "  print(\"Mass = \" + str(m) + \" kg\")\n",
        "  print(\"C = \" + str(c) + \" m/s\")\n",
        "  print(\"e = \" + str(m* c ** 2) + \" jules\")\n",
        "\n",
        "if __name__ == \"__main__\":\n",
        "  energy()"
      ],
      "metadata": {
        "colab": {
          "base_uri": "https://localhost:8080/"
        },
        "id": "aQj8Bv0NS6TB",
        "outputId": "89972186-a0bf-4f81-f99f-b2de11145764"
      },
      "execution_count": 12,
      "outputs": [
        {
          "output_type": "stream",
          "name": "stdout",
          "text": [
            "Enter kilos of mass: 100\n",
            "e = m*c^2\n",
            "Mass = 100.0 kg\n",
            "C = 299792458 m/s\n",
            "e = 8.987551787368176e+18 jules\n"
          ]
        }
      ]
    },
    {
      "cell_type": "markdown",
      "source": [
        "## 03_feet_to_inches"
      ],
      "metadata": {
        "id": "9gPU--aDYYjI"
      }
    },
    {
      "cell_type": "code",
      "source": [
        "inch:int = 12\n",
        "\n",
        "def foot():\n",
        "  feet:float = float(input(\"Enter number of feet:\"))\n",
        "  print(f'There are {inch * feet} inches in {feet} feet.')\n",
        "\n",
        "if __name__ == \"__main__\":\n",
        "  foot()"
      ],
      "metadata": {
        "colab": {
          "base_uri": "https://localhost:8080/"
        },
        "id": "EhTzSgZVYaC1",
        "outputId": "6b70710c-d2dc-4910-eff8-69f5c6670222"
      },
      "execution_count": 18,
      "outputs": [
        {
          "output_type": "stream",
          "name": "stdout",
          "text": [
            "Enter number of feet:45\n",
            "There are 540.0 inches in 45.0 feet.\n"
          ]
        }
      ]
    },
    {
      "cell_type": "markdown",
      "source": [
        "## 04_pythagorean_theorem"
      ],
      "metadata": {
        "id": "mmG34Eg2YYPv"
      }
    },
    {
      "cell_type": "code",
      "source": [
        "import math\n",
        "def triangle():\n",
        "  ab:float = float(input(\"Enter the length of AB:\"))\n",
        "  ac:float = float(input(\"Enter the length of AC:\"))\n",
        "  bc:float = math.sqrt(ab**2 + ac**2)\n",
        "  print(f\"The length of BC (the hypotenuse is: {bc})\")\n",
        "\n",
        "if __name__ == \"__main__\":\n",
        "  triangle()"
      ],
      "metadata": {
        "colab": {
          "base_uri": "https://localhost:8080/"
        },
        "id": "qfgO4O13avun",
        "outputId": "24f22e4c-93de-47a0-8b7b-7e435c57ff03"
      },
      "execution_count": 20,
      "outputs": [
        {
          "output_type": "stream",
          "name": "stdout",
          "text": [
            "Enter the length of AB:4.9\n",
            "Enter the length of AC:5.8\n",
            "The length of BC (the hypotenuse is: 7.592759709091287)\n"
          ]
        }
      ]
    },
    {
      "cell_type": "markdown",
      "source": [
        "## 05_remainder_division"
      ],
      "metadata": {
        "id": "3zRtQ9qVcdyw"
      }
    },
    {
      "cell_type": "code",
      "source": [
        "def reminder():\n",
        "  num1:int = int(input(\"Please enter an integer to be divided: \"))\n",
        "  num2:int = int(input(\"Please enter an integer to be divided: \"))\n",
        "  quotient: int = num1 // num2\n",
        "  reminder: int = num1 % num2\n",
        "  print(\"The result of this division is \" + str(quotient) + \" with a reminder of \" + str(reminder))\n",
        "\n",
        "if __name__ == \"__main__\":\n",
        "    reminder()"
      ],
      "metadata": {
        "colab": {
          "base_uri": "https://localhost:8080/"
        },
        "id": "Jvx06kYbclkz",
        "outputId": "963583d9-22ab-4471-b9b9-e1b949bf71e2"
      },
      "execution_count": 23,
      "outputs": [
        {
          "output_type": "stream",
          "name": "stdout",
          "text": [
            "Please enter an integer to be divided: 5\n",
            "Please enter an integer to be divided: 3\n",
            "The result of this division is 1 with a reminder of 2\n"
          ]
        }
      ]
    },
    {
      "cell_type": "markdown",
      "source": [
        "## 06_rolldice"
      ],
      "metadata": {
        "id": "1E1aMRJOHfdz"
      }
    },
    {
      "cell_type": "code",
      "source": [
        "import random\n",
        "\n",
        "def roll_dice():\n",
        "  dice1:int = random.randint(1,6)\n",
        "  dice2:int = random.randint(1,6)\n",
        "  total:int = int(dice1 + dice2)\n",
        "  print(\"First dice: \" + str(dice1))\n",
        "  print(\"Second dice: \" + str(dice2))\n",
        "  print(f\"Total of two dice: {total}\")\n",
        "if __name__ == \"__main__\":\n",
        "    roll_dice()\n"
      ],
      "metadata": {
        "colab": {
          "base_uri": "https://localhost:8080/"
        },
        "id": "Md6nKVujH0cm",
        "outputId": "0b39c39d-9b4a-4f62-bdc6-9e07f49e6a64"
      },
      "execution_count": 8,
      "outputs": [
        {
          "output_type": "stream",
          "name": "stdout",
          "text": [
            "First dice: 3\n",
            "Second dice: 3\n",
            "Total of two dice: 6\n"
          ]
        }
      ]
    },
    {
      "cell_type": "markdown",
      "source": [
        "## 06_seconds_in_year"
      ],
      "metadata": {
        "id": "I8k-hybKKQVk"
      }
    },
    {
      "cell_type": "code",
      "source": [
        "DAYS_PER_YEAR: int = 365\n",
        "HOURS_PER_DAY: int = 24\n",
        "MIN_PER_HOUR: int = 60\n",
        "SEC_PER_MIN: int = 60\n",
        "\n",
        "def second():\n",
        "  print(f\"There are \" + str(DAYS_PER_YEAR * HOURS_PER_DAY * MIN_PER_HOUR * SEC_PER_MIN) + \" seconds in a year!\")\n",
        "\n",
        "if __name__ == \"__main__\":\n",
        "    second()"
      ],
      "metadata": {
        "colab": {
          "base_uri": "https://localhost:8080/"
        },
        "id": "jOLl2f8RKRzd",
        "outputId": "f642c08b-b0c5-4276-b186-5cbd52bb85cf"
      },
      "execution_count": 9,
      "outputs": [
        {
          "output_type": "stream",
          "name": "stdout",
          "text": [
            "There are 31536000 seconds in a year!\n"
          ]
        }
      ]
    },
    {
      "cell_type": "markdown",
      "source": [
        "## 07_tiny_mad_lib"
      ],
      "metadata": {
        "id": "pHtkW9v3LNUA"
      }
    },
    {
      "cell_type": "code",
      "source": [
        "def mad_lib():\n",
        "  noun: str = input(\"Please type a noun and press enter. \")\n",
        "  adjective: str = input(\"Please type an adjective and press enter. \")\n",
        "  verb: str = input(\"Please type a verb and press enter. \")\n",
        "  print(f\"Do you {verb} your {adjective} {noun} ? \")\n",
        "\n",
        "if __name__ == \"__main__\":\n",
        "  mad_lib()"
      ],
      "metadata": {
        "colab": {
          "base_uri": "https://localhost:8080/"
        },
        "id": "nKixlgkILO-v",
        "outputId": "0e67ff96-b6d4-4660-d25d-c11e1e0dfa76"
      },
      "execution_count": 15,
      "outputs": [
        {
          "output_type": "stream",
          "name": "stdout",
          "text": [
            "Please type a noun and press enter. ammy\n",
            "Please type an adjective and press enter. cute\n",
            "Please type a verb and press enter. playing\n",
            "Do you playing your cute ammy ? \n"
          ]
        }
      ]
    }
  ]
}