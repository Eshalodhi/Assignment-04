{
  "cells": [
    {
      "cell_type": "markdown",
      "metadata": {
        "id": "view-in-github",
        "colab_type": "text"
      },
      "source": [
        "<a href=\"https://colab.research.google.com/github/Eshalodhi/Assignment-04/blob/main/Mad_libs.ipynb\" target=\"_parent\"><img src=\"https://colab.research.google.com/assets/colab-badge.svg\" alt=\"Open In Colab\"/></a>"
      ]
    },
    {
      "cell_type": "markdown",
      "metadata": {
        "id": "NtAuCOHvowkH"
      },
      "source": [
        "## 1.Mad_libs"
      ]
    },
    {
      "cell_type": "code",
      "execution_count": null,
      "metadata": {
        "colab": {
          "base_uri": "https://localhost:8080/"
        },
        "id": "ne6zzOnah1xp",
        "outputId": "e0a39afa-0314-43ab-bd35-8bf747eb5a53"
      },
      "outputs": [
        {
          "name": "stdout",
          "output_type": "stream",
          "text": [
            "Let's play Maad Libs.! fill in the blanks\n",
            "Enter a name: Esha\n",
            "Enter a place: Disney Land\n",
            "Enter a funnny adjective: Ridiculous \n",
            "Enter a random object: spoon\n",
            "Enter a animal: Dog\n",
            "Enter a action verb: zoom\n",
            "Enter a funny exclamation: Oh, pickles! \n",
            "\n",
            " Here is your Mad Libs story: \n",
            "\n",
            "  Esha was on an adventure to Disney Land. It was a Ridiculous  day, and they carried their favorite spoon with them.  \n",
            "  Suddenly, a wild Dog appeared out of nowhere! \"Oh, pickles! !\" Esha shouted.  \n",
            "  Without thinking, they decided to zoom as fast as they could.  \n",
            "  It was a journey they would never forget!\n",
            "  \n"
          ]
        }
      ],
      "source": [
        "def mad_libs():\n",
        "  print(\"Let\\'s play Maad Libs.! fill in the blanks\")\n",
        "\n",
        "  name = input(\"Enter a name: \")\n",
        "  place = input(\"Enter a place: \")\n",
        "  funny_adj = input(\"Enter a funnny adjective: \")\n",
        "  random_object = input(\"Enter a random object: \")\n",
        "  animal = input(\"Enter a animal: \")\n",
        "  action_verb = input(\"Enter a action verb: \")\n",
        "  funny_exclamation = input(\"Enter a funny exclamation: \")\n",
        "\n",
        "  story = f\"\"\"\n",
        "  {name} was on an adventure to {place}. It was a {funny_adj} day, and they carried their favorite {random_object} with them.\n",
        "  Suddenly, a wild {animal} appeared out of nowhere! \"{funny_exclamation}!\" {name} shouted.\n",
        "  Without thinking, they decided to {action_verb} as fast as they could.\n",
        "  It was a journey they would never forget!\n",
        "  \"\"\"\n",
        "\n",
        "  print(\"\\n Here is your Mad Libs story: \")\n",
        "  print(story)\n",
        "\n",
        "if __name__ == \"__main__\":\n",
        "  mad_libs()"
      ]
    }
  ],
  "metadata": {
    "colab": {
      "provenance": [],
      "authorship_tag": "ABX9TyNClBZYRnEcolLQoH8Wbsnc",
      "include_colab_link": true
    },
    "kernelspec": {
      "display_name": "Python 3",
      "name": "python3"
    },
    "language_info": {
      "name": "python"
    }
  },
  "nbformat": 4,
  "nbformat_minor": 0
}