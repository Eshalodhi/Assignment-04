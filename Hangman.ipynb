{
  "nbformat": 4,
  "nbformat_minor": 0,
  "metadata": {
    "colab": {
      "provenance": [],
      "authorship_tag": "ABX9TyP89ySkyPj+LWnV0KkB7zkx",
      "include_colab_link": true
    },
    "kernelspec": {
      "name": "python3",
      "display_name": "Python 3"
    },
    "language_info": {
      "name": "python"
    }
  },
  "cells": [
    {
      "cell_type": "markdown",
      "metadata": {
        "id": "view-in-github",
        "colab_type": "text"
      },
      "source": [
        "<a href=\"https://colab.research.google.com/github/Eshalodhi/Assignment-04/blob/main/Hangman.ipynb\" target=\"_parent\"><img src=\"https://colab.research.google.com/assets/colab-badge.svg\" alt=\"Open In Colab\"/></a>"
      ]
    },
    {
      "cell_type": "markdown",
      "source": [
        "## Hangman"
      ],
      "metadata": {
        "id": "-JwO0EnPnWg0"
      }
    },
    {
      "cell_type": "code",
      "execution_count": 10,
      "metadata": {
        "colab": {
          "base_uri": "https://localhost:8080/"
        },
        "id": "EzPmu1rLl75z",
        "outputId": "dec9bce0-0a48-4ac4-e72d-11bb3ccc4ce1"
      },
      "outputs": [
        {
          "output_type": "stream",
          "name": "stdout",
          "text": [
            "🎉 Welcome to Hangman Game 👋🏻\n",
            "🔤 Word to guess: _ _ _ _ _ \n",
            "🤔 Guess a letter: c\n",
            "✅ Good guess! 🎯\n",
            "📖 Word:  c _ _ _ _\n",
            "🤔 Guess a letter: h\n",
            "✅ Good guess! 🎯\n",
            "📖 Word:  c h _ _ _\n",
            "🤔 Guess a letter: i\n",
            "✅ Good guess! 🎯\n",
            "📖 Word:  c h _ i _\n",
            "🤔 Guess a letter: o\n",
            "❌ Wrong guess! 😓 You have 7 attempts left.\n",
            "📖 Word:  c h _ i _\n",
            "🤔 Guess a letter: \n",
            "⚠️ Please enter a single valid letter.\n",
            "🤔 Guess a letter: a\n",
            "✅ Good guess! 🎯\n",
            "📖 Word:  c h a i _\n",
            "🤔 Guess a letter: s\n",
            "❌ Wrong guess! 😓 You have 6 attempts left.\n",
            "📖 Word:  c h a i _\n",
            "🤔 Guess a letter: r\n",
            "✅ Good guess! 🎯\n",
            "📖 Word:  c h a i r\n",
            "🎊 Congratulations! You guessed the word correctly! 🥳\n"
          ]
        }
      ],
      "source": [
        "import random\n",
        "\n",
        "words = [\"enum\", \"python\", \"collab\", \"vscode\", \"game\", \"Happy\", \"Table\", \"Book\", \"Chair\", \"Sun\", \"Rain\", \"Cat\", \"Dog\", \"Water\", \"Friend\"]\n",
        "\n",
        "word = random.choice(words).lower()\n",
        "guessed_letters = []\n",
        "attempts = 8\n",
        "\n",
        "print(\"🎉 Welcome to Hangman Game 👋🏻\")\n",
        "print(\"🔤 Word to guess:\", \"_ \" * len(word))\n",
        "\n",
        "while attempts > 0:\n",
        "    guess = input(\"🤔 Guess a letter: \").lower()\n",
        "\n",
        "    if len(guess) != 1 or not guess.isalpha():\n",
        "        print(\"⚠️ Please enter a single valid letter.\")\n",
        "        continue\n",
        "\n",
        "    if guess in guessed_letters:\n",
        "        print(\"🔁 You already guessed that letter.\")\n",
        "        continue\n",
        "\n",
        "    guessed_letters.append(guess)\n",
        "\n",
        "    if guess in word:\n",
        "        print(\"✅ Good guess! 🎯\")\n",
        "    else:\n",
        "        attempts -= 1\n",
        "        print(f\"❌ Wrong guess! 😓 You have {attempts} attempts left.\")\n",
        "\n",
        "    display_word = \" \".join([letter if letter in guessed_letters else \"_\" for letter in word])\n",
        "    print(\"📖 Word: \", display_word)\n",
        "\n",
        "    if \"_\" not in display_word:\n",
        "        print(\"🎊 Congratulations! You guessed the word correctly! 🥳\")\n",
        "        break\n",
        "\n",
        "if \"_\" in display_word:\n",
        "    print(f\"💀 Game over! The correct word was: '{word}' 😔\")\n"
      ]
    }
  ]
}