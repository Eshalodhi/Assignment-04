{
  "nbformat": 4,
  "nbformat_minor": 0,
  "metadata": {
    "colab": {
      "provenance": [],
      "authorship_tag": "ABX9TyMKaceVTK91kGygkuRSY4dL",
      "include_colab_link": true
    },
    "kernelspec": {
      "name": "python3",
      "display_name": "Python 3"
    },
    "language_info": {
      "name": "python"
    }
  },
  "cells": [
    {
      "cell_type": "markdown",
      "metadata": {
        "id": "view-in-github",
        "colab_type": "text"
      },
      "source": [
        "<a href=\"https://colab.research.google.com/github/Eshalodhi/Assignment-04/blob/main/03_if_statements.ipynb\" target=\"_parent\"><img src=\"https://colab.research.google.com/assets/colab-badge.svg\" alt=\"Open In Colab\"/></a>"
      ]
    },
    {
      "cell_type": "markdown",
      "source": [
        "## 01_print_events"
      ],
      "metadata": {
        "id": "EH9CNZW1cm75"
      }
    },
    {
      "cell_type": "code",
      "source": [
        "def even():\n",
        "  for i in range(30):\n",
        "   print(f\"Here is 20 even numbers are: \", i*2)\n",
        "\n",
        "if __name__ == \"__main__\":\n",
        "  even()"
      ],
      "metadata": {
        "colab": {
          "base_uri": "https://localhost:8080/"
        },
        "id": "T-axFRV-czJk",
        "outputId": "b724e927-1638-44f2-e1f1-841ca752151e"
      },
      "execution_count": 12,
      "outputs": [
        {
          "output_type": "stream",
          "name": "stdout",
          "text": [
            "Here is 20 even numbers are:  0\n",
            "Here is 20 even numbers are:  2\n",
            "Here is 20 even numbers are:  4\n",
            "Here is 20 even numbers are:  6\n",
            "Here is 20 even numbers are:  8\n",
            "Here is 20 even numbers are:  10\n",
            "Here is 20 even numbers are:  12\n",
            "Here is 20 even numbers are:  14\n",
            "Here is 20 even numbers are:  16\n",
            "Here is 20 even numbers are:  18\n",
            "Here is 20 even numbers are:  20\n",
            "Here is 20 even numbers are:  22\n",
            "Here is 20 even numbers are:  24\n",
            "Here is 20 even numbers are:  26\n",
            "Here is 20 even numbers are:  28\n",
            "Here is 20 even numbers are:  30\n",
            "Here is 20 even numbers are:  32\n",
            "Here is 20 even numbers are:  34\n",
            "Here is 20 even numbers are:  36\n",
            "Here is 20 even numbers are:  38\n",
            "Here is 20 even numbers are:  40\n",
            "Here is 20 even numbers are:  42\n",
            "Here is 20 even numbers are:  44\n",
            "Here is 20 even numbers are:  46\n",
            "Here is 20 even numbers are:  48\n",
            "Here is 20 even numbers are:  50\n",
            "Here is 20 even numbers are:  52\n",
            "Here is 20 even numbers are:  54\n",
            "Here is 20 even numbers are:  56\n",
            "Here is 20 even numbers are:  58\n"
          ]
        }
      ]
    },
    {
      "cell_type": "markdown",
      "source": [
        "## 02_international_voting_age"
      ],
      "metadata": {
        "id": "byzagktbfXXa"
      }
    },
    {
      "cell_type": "code",
      "source": [
        "PETURKSBOUIPO_AGE : int = 16\n",
        "STANLAU_AGE : int = 25\n",
        "MAYENGUA_AGE : int = 48\n",
        "\n",
        "def main():\n",
        "    user_age = int(input(\"How old are you? \"))\n",
        "    if user_age >= PETURKSBOUIPO_AGE:\n",
        "        print(\"You can vote in Peturksbouipo where the voting age is \" + str(PETURKSBOUIPO_AGE) + \".\")\n",
        "    else:\n",
        "        print(\"You cannot vote in Peturksbouipo where the voting age is \" + str(PETURKSBOUIPO_AGE) + \".\")\n",
        "\n",
        "\n",
        "    if user_age >= STANLAU_AGE:\n",
        "        print(\"You can vote in Stanlau where the voting age is \" + str(STANLAU_AGE) + \".\")\n",
        "    else:\n",
        "        print(\"You cannot vote in Stanlau where the voting age is \" + str(STANLAU_AGE) + \".\")\n",
        "\n",
        "    if user_age >= MAYENGUA_AGE:\n",
        "        print(\"You can vote in Mayengua where the voting age is \" + str(MAYENGUA_AGE) + \".\")\n",
        "    else:\n",
        "        print(\"You cannot vote in Mayengua where the voting age is \" + str(MAYENGUA_AGE) + \".\")\n",
        "\n",
        "if __name__ == '__main__':\n",
        "    main()"
      ],
      "metadata": {
        "colab": {
          "base_uri": "https://localhost:8080/"
        },
        "id": "i2ODAERLfZZ8",
        "outputId": "022d6716-5cf8-4efb-df6c-0abf9773d652"
      },
      "execution_count": 13,
      "outputs": [
        {
          "output_type": "stream",
          "name": "stdout",
          "text": [
            "How old are you? 24\n",
            "You can vote in Peturksbouipo where the voting age is 16.\n",
            "You cannot vote in Stanlau where the voting age is 25.\n",
            "You cannot vote in Mayengua where the voting age is 48.\n"
          ]
        }
      ]
    },
    {
      "cell_type": "markdown",
      "source": [
        "## 03_leap_year"
      ],
      "metadata": {
        "id": "LC6foXDhgjB-"
      }
    },
    {
      "cell_type": "code",
      "source": [
        "def main():\n",
        "    year = int(input('Please input a year: '))\n",
        "\n",
        "    if year % 4 == 0:  # Checking whether the provided year is evenly divisibly by 4\n",
        "        if year % 100 == 0:  # Checking whether the provided year is evenly divisibly by 100\n",
        "            if year % 400 == 0:  # Checking whether the provided year is evenly divisibly by 400\n",
        "                print(\"That's a leap year!\")\n",
        "            else:  # (Not divisible by 400)\n",
        "                print(\"That's not a leap year.\")\n",
        "        else:  # (Not divisible by 100)\n",
        "            print(\"That's a leap year!\")\n",
        "    else:  # (Not divisible by 4)\n",
        "        print(\"That's not a leap year.\")\n",
        "\n",
        "if __name__ == '__main__':\n",
        "    main()"
      ],
      "metadata": {
        "colab": {
          "base_uri": "https://localhost:8080/"
        },
        "id": "UmD1SGfTgk_3",
        "outputId": "f775b223-2e55-4bf2-ddc8-d20f9de385e6"
      },
      "execution_count": 15,
      "outputs": [
        {
          "output_type": "stream",
          "name": "stdout",
          "text": [
            "Please input a year: 2026\n",
            "That's not a leap year.\n"
          ]
        }
      ]
    },
    {
      "cell_type": "markdown",
      "source": [
        "## 04_tall_enough_to_ride"
      ],
      "metadata": {
        "id": "JtcBAxy-hac5"
      }
    },
    {
      "cell_type": "code",
      "source": [
        "MINIMUM_HEIGHT : int = 50 # arbitrary units :)\n",
        "\n",
        "def main():\n",
        "    height = float(input(\"How tall are you? \"))\n",
        "    if height >= MINIMUM_HEIGHT:\n",
        "        print(\"You're tall enough to ride!\")\n",
        "    else:\n",
        "        print(\"You're not tall enough to ride, but maybe next year!\")\n",
        "\n",
        "if __name__ == '__main__':\n",
        "    main()"
      ],
      "metadata": {
        "colab": {
          "base_uri": "https://localhost:8080/"
        },
        "id": "nMwNskZVhe79",
        "outputId": "1cff7008-17aa-45e0-d891-8a439eebfb2b"
      },
      "execution_count": 18,
      "outputs": [
        {
          "output_type": "stream",
          "name": "stdout",
          "text": [
            "How tall are you? 60\n",
            "You're tall enough to ride!\n"
          ]
        }
      ]
    },
    {
      "cell_type": "markdown",
      "source": [
        "## 05_random_numbers"
      ],
      "metadata": {
        "id": "o5q0w3Kth0Ct"
      }
    },
    {
      "cell_type": "code",
      "source": [
        "import random\n",
        "\n",
        "N_NUMBERS : int = 10\n",
        "MIN_VALUE : int = 1\n",
        "MAX_VALUE : int = 100\n",
        "\n",
        "def random_number():\n",
        "  for i in range(10):\n",
        "    num:list[int] = random.randint(1, 100)\n",
        "    print(num)\n",
        "\n",
        "if __name__ == '__main__':\n",
        "    random_number()"
      ],
      "metadata": {
        "colab": {
          "base_uri": "https://localhost:8080/"
        },
        "id": "oz94swQSh1jG",
        "outputId": "e962b91e-cee1-49b8-8ca8-dfa2cc59f945"
      },
      "execution_count": 21,
      "outputs": [
        {
          "output_type": "stream",
          "name": "stdout",
          "text": [
            "39\n",
            "40\n",
            "18\n",
            "16\n",
            "92\n",
            "59\n",
            "5\n",
            "46\n",
            "40\n",
            "97\n"
          ]
        }
      ]
    }
  ]
}