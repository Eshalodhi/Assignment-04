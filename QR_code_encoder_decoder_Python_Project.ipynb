{
  "nbformat": 4,
  "nbformat_minor": 0,
  "metadata": {
    "colab": {
      "provenance": [],
      "authorship_tag": "ABX9TyNUzePr3RO0/CWzKsgn9Z2Y",
      "include_colab_link": true
    },
    "kernelspec": {
      "name": "python3",
      "display_name": "Python 3"
    },
    "language_info": {
      "name": "python"
    }
  },
  "cells": [
    {
      "cell_type": "markdown",
      "metadata": {
        "id": "view-in-github",
        "colab_type": "text"
      },
      "source": [
        "<a href=\"https://colab.research.google.com/github/Eshalodhi/Assignment-04/blob/main/QR_code_encoder_decoder_Python_Project.ipynb\" target=\"_parent\"><img src=\"https://colab.research.google.com/assets/colab-badge.svg\" alt=\"Open In Colab\"/></a>"
      ]
    },
    {
      "cell_type": "markdown",
      "source": [
        "\n",
        "## QR code encoder / decoder Python Project"
      ],
      "metadata": {
        "id": "Ticm-9oRNiMK"
      }
    },
    {
      "cell_type": "code",
      "execution_count": 4,
      "metadata": {
        "colab": {
          "base_uri": "https://localhost:8080/",
          "height": 423
        },
        "id": "fKlyyCKpNcjg",
        "outputId": "12fb9937-c9bc-49ae-e62f-b85b246a636e"
      },
      "outputs": [
        {
          "output_type": "stream",
          "name": "stdout",
          "text": [
            "Requirement already satisfied: qrcode[pil] in /usr/local/lib/python3.11/dist-packages (8.1)\n",
            "Requirement already satisfied: pillow>=9.1.0 in /usr/local/lib/python3.11/dist-packages (from qrcode[pil]) (11.1.0)\n"
          ]
        },
        {
          "output_type": "display_data",
          "data": {
            "image/png": "[encoded data removed]",
            "text/plain": [
              "<IPython.core.display.Image object>"
            ]
          },
          "metadata": {}
        }
      ],
      "source": [
        "!pip install qrcode[pil]\n",
        "\n",
        "import qrcode\n",
        "from IPython.display import Image, display\n",
        "\n",
        "data = \"QR code using make() function\"\n",
        "img = qrcode.make(data)\n",
        "\n",
        "# Save image\n",
        "img_path = \"qr_code_project.png\"\n",
        "img.save(img_path)\n",
        "\n",
        "display(Image(filename=img_path))\n"
      ]
    }
  ]
}