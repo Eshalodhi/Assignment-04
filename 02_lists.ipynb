{
  "nbformat": 4,
  "nbformat_minor": 0,
  "metadata": {
    "colab": {
      "provenance": [],
      "authorship_tag": "ABX9TyNIDlxqddnkwZHuR6P7Egx2",
      "include_colab_link": true
    },
    "kernelspec": {
      "name": "python3",
      "display_name": "Python 3"
    },
    "language_info": {
      "name": "python"
    }
  },
  "cells": [
    {
      "cell_type": "markdown",
      "metadata": {
        "id": "view-in-github",
        "colab_type": "text"
      },
      "source": [
        "<a href=\"https://colab.research.google.com/github/Eshalodhi/Assignment-04/blob/main/02_lists.ipynb\" target=\"_parent\"><img src=\"https://colab.research.google.com/assets/colab-badge.svg\" alt=\"Open In Colab\"/></a>"
      ]
    },
    {
      "cell_type": "markdown",
      "source": [
        "## 01_add_many_number"
      ],
      "metadata": {
        "id": "gb27GDDdO2t_"
      }
    },
    {
      "cell_type": "code",
      "execution_count": 1,
      "metadata": {
        "colab": {
          "base_uri": "https://localhost:8080/"
        },
        "id": "Vtc7tAzCOuvq",
        "outputId": "dbbb79c4-187a-4a5c-e5ba-9d21637f9002"
      },
      "outputs": [
        {
          "output_type": "stream",
          "name": "stdout",
          "text": [
            "15\n"
          ]
        }
      ],
      "source": [
        "def add_number(numbers)->int:\n",
        "  num:int = 0\n",
        "  for i in numbers:\n",
        "    num += i\n",
        "  return num\n",
        "\n",
        "def main():\n",
        "  numbers:list[int] = [1,2,3,4,5]\n",
        "  sum = add_number(numbers)\n",
        "  print(sum)\n",
        "\n",
        "if __name__ == \"__main__\":\n",
        "  main()"
      ]
    },
    {
      "cell_type": "markdown",
      "source": [
        "## 02_double_list"
      ],
      "metadata": {
        "id": "TeEFdGmDQXVq"
      }
    },
    {
      "cell_type": "code",
      "source": [
        "def main():\n",
        "    numbers: list[int] = [1, 2, 3, 4]\n",
        "    for i in range(len(numbers)):\n",
        "        elem_at_index = numbers[i]\n",
        "        numbers[i] = elem_at_index * 2\n",
        "    print(numbers)\n",
        "\n",
        "if __name__ == '__main__':\n",
        "    main()"
      ],
      "metadata": {
        "colab": {
          "base_uri": "https://localhost:8080/"
        },
        "id": "QCDUyEdRQaTU",
        "outputId": "687f66ab-7bac-4e64-de32-333d349a9744"
      },
      "execution_count": 7,
      "outputs": [
        {
          "output_type": "stream",
          "name": "stdout",
          "text": [
            "[2, 4, 6, 8]\n"
          ]
        }
      ]
    },
    {
      "cell_type": "markdown",
      "source": [
        "## 03_erase_canvas"
      ],
      "metadata": {
        "id": "b2W70nEoSIpF"
      }
    },
    {
      "cell_type": "code",
      "source": [
        "import matplotlib.pyplot as plt\n",
        "import numpy as np\n",
        "\n",
        "# Constants\n",
        "CANVAS_WIDTH, CANVAS_HEIGHT = 400, 400\n",
        "CELL_SIZE = 40\n",
        "ERASER_SIZE = 20\n",
        "\n",
        "# Create grid\n",
        "rows, cols = CANVAS_HEIGHT // CELL_SIZE, CANVAS_WIDTH // CELL_SIZE\n",
        "grid = np.ones((rows, cols))  # 1 represents blue, 0 represents white\n",
        "\n",
        "fig, ax = plt.subplots(figsize=(6, 6))\n",
        "erasing = False  # Track whether the mouse is pressed\n",
        "\n",
        "# Function to draw the grid\n",
        "def draw_grid():\n",
        "    ax.clear()\n",
        "    for i in range(rows):\n",
        "        for j in range(cols):\n",
        "            color = 'blue' if grid[i, j] == 1 else 'white'\n",
        "            rect = plt.Rectangle((j * CELL_SIZE, i * CELL_SIZE), CELL_SIZE, CELL_SIZE, facecolor=color, edgecolor='black')\n",
        "            ax.add_patch(rect)\n",
        "    ax.set_xlim(0, CANVAS_WIDTH)\n",
        "    ax.set_ylim(0, CANVAS_HEIGHT)\n",
        "    ax.invert_yaxis()\n",
        "    ax.axis('off')\n",
        "\n",
        "# Function to erase cells\n",
        "def erase(event):\n",
        "    if erasing and event.xdata is not None and event.ydata is not None:\n",
        "        row = int(event.ydata // CELL_SIZE)\n",
        "        col = int(event.xdata // CELL_SIZE)\n",
        "\n",
        "        # Erase cells within eraser size\n",
        "        for i in range(max(0, row - 1), min(rows, row + 2)):\n",
        "            for j in range(max(0, col - 1), min(cols, col + 2)):\n",
        "                grid[i, j] = 0\n",
        "        draw_grid()\n",
        "        plt.draw()\n",
        "\n",
        "# Function to start erasing\n",
        "def on_press(event):\n",
        "    global erasing\n",
        "    erasing = True\n",
        "\n",
        "# Function to stop erasing\n",
        "def on_release(event):\n",
        "    global erasing\n",
        "    erasing = False\n",
        "\n",
        "# Initialize plot\n",
        "draw_grid()\n",
        "\n",
        "# Connect event for mouse movement and clicks\n",
        "fig.canvas.mpl_connect('motion_notify_event', erase)\n",
        "fig.canvas.mpl_connect('button_press_event', on_press)\n",
        "fig.canvas.mpl_connect('button_release_event', on_release)\n",
        "plt.show()\n"
      ],
      "metadata": {
        "colab": {
          "base_uri": "https://localhost:8080/",
          "height": 499
        },
        "id": "WdD6xOg6Zdx2",
        "outputId": "044e883d-c92b-4c6e-92a4-b141f574d881"
      },
      "execution_count": 6,
      "outputs": [
        {
          "output_type": "display_data",
          "data": {
            "text/plain": [
              "<Figure size 600x600 with 1 Axes>"
            ],
            "image/png": "[encoded data removed]"
          },
          "metadata": {}
        }
      ]
    },
    {
      "cell_type": "markdown",
      "source": [
        "## 04_flowing_with_data_structures"
      ],
      "metadata": {
        "id": "RyBh3XA3SRSy"
      }
    },
    {
      "cell_type": "code",
      "source": [
        "def add_three_copies(my_list, data):\n",
        "    for i in range(3):\n",
        "        my_list.append(data)\n",
        "\n",
        "def main():\n",
        "    message = input(\"Enter a message to copy: \")\n",
        "    my_list = []\n",
        "    print(\"List before:\", my_list)\n",
        "    add_three_copies(my_list, message)\n",
        "    print(\"List after:\", my_list)\n",
        "\n",
        "if __name__ == \"__main__\":\n",
        "    main()"
      ],
      "metadata": {
        "colab": {
          "base_uri": "https://localhost:8080/"
        },
        "id": "prTEfSDISVti",
        "outputId": "f9b72c2d-e92c-4c99-8330-2a5d77abe0f8"
      },
      "execution_count": 8,
      "outputs": [
        {
          "output_type": "stream",
          "name": "stdout",
          "text": [
            "Enter a message to copy: I can do it Inshallah\n",
            "List before: []\n",
            "List after: ['I can do it Inshallah', 'I can do it Inshallah', 'I can do it Inshallah']\n"
          ]
        }
      ]
    },
    {
      "cell_type": "markdown",
      "source": [
        "## 05_get_first_element"
      ],
      "metadata": {
        "id": "3gYTp5ufTRFV"
      }
    },
    {
      "cell_type": "code",
      "source": [
        "\n",
        "def get_first_element(lst):\n",
        "    print(lst[0])\n",
        "\n",
        "def get_lst():\n",
        "    lst = []\n",
        "    elem: str = input(\"Please enter an element of the list or press enter to stop. \")\n",
        "    while elem != \"\":\n",
        "        lst.append(elem)\n",
        "        elem = input(\"Please enter an element of the list or press enter to stop. \")\n",
        "    return lst\n",
        "\n",
        "def main():\n",
        "    lst = get_lst()\n",
        "    get_first_element(lst)\n",
        "\n",
        "\n",
        "if __name__ == '__main__':\n",
        "    main()\n",
        "\n"
      ],
      "metadata": {
        "colab": {
          "base_uri": "https://localhost:8080/"
        },
        "id": "B6k2CpMdTTV_",
        "outputId": "2aead7fb-4e1d-4f87-d825-008387e9e0ff"
      },
      "execution_count": 9,
      "outputs": [
        {
          "output_type": "stream",
          "name": "stdout",
          "text": [
            "Please enter an element of the list or press enter to stop. a\n",
            "Please enter an element of the list or press enter to stop. f\n",
            "Please enter an element of the list or press enter to stop. e\n",
            "Please enter an element of the list or press enter to stop. t\n",
            "Please enter an element of the list or press enter to stop. p\n",
            "Please enter an element of the list or press enter to stop. i\n",
            "Please enter an element of the list or press enter to stop. \n",
            "a\n"
          ]
        }
      ]
    },
    {
      "cell_type": "markdown",
      "source": [
        "## 06_get_last_element"
      ],
      "metadata": {
        "id": "rD1Tc4hzUFSb"
      }
    },
    {
      "cell_type": "code",
      "source": [
        "\n",
        "def get_last_element(lst):\n",
        "    print(lst[-1])\n",
        "\n",
        "def get_lst():\n",
        "    lst = []\n",
        "    elem: str = input(\"Please enter an element of the list or press enter to stop. \")\n",
        "    while elem != \"\":\n",
        "        lst.append(elem)\n",
        "        elem = input(\"Please enter an element of the list or press enter to stop. \")\n",
        "    return lst\n",
        "\n",
        "def main():\n",
        "    lst = get_lst()\n",
        "    get_last_element(lst)\n",
        "\n",
        "\n",
        "if __name__ == '__main__':\n",
        "    main()\n",
        "\n"
      ],
      "metadata": {
        "colab": {
          "base_uri": "https://localhost:8080/"
        },
        "id": "5Uue-9XmUHfc",
        "outputId": "fa0ef797-0c83-4257-a9ca-ac98437350e4"
      },
      "execution_count": 10,
      "outputs": [
        {
          "output_type": "stream",
          "name": "stdout",
          "text": [
            "Please enter an element of the list or press enter to stop. i\n",
            "Please enter an element of the list or press enter to stop. p\n",
            "Please enter an element of the list or press enter to stop. l\n",
            "Please enter an element of the list or press enter to stop. u\n",
            "Please enter an element of the list or press enter to stop. \n",
            "u\n"
          ]
        }
      ]
    },
    {
      "cell_type": "markdown",
      "source": [
        "## 07_get_list"
      ],
      "metadata": {
        "id": "mT-E2qL4U2bA"
      }
    },
    {
      "cell_type": "code",
      "source": [
        "def main():\n",
        "    lst = []\n",
        "    val = input(\"Enter a value to add: \")\n",
        "    while val:\n",
        "        lst.append(val)\n",
        "        val = input(\"Enter a value to  add: \")\n",
        "\n",
        "    print(\"Here's the list:\", lst)\n",
        "\n",
        "if __name__ == '__main__':\n",
        "    main()"
      ],
      "metadata": {
        "colab": {
          "base_uri": "https://localhost:8080/"
        },
        "id": "iWXQh49JU58c",
        "outputId": "5fae0bea-4281-4f29-f5d8-f05d79ce8c87"
      },
      "execution_count": 11,
      "outputs": [
        {
          "output_type": "stream",
          "name": "stdout",
          "text": [
            "Enter a value to add: esha\n",
            "Enter a value to  add: hamza\n",
            "Enter a value to  add: fabeha\n",
            "Enter a value to  add: zainab\n",
            "Enter a value to  add: salwa\n",
            "Enter a value to  add: \n",
            "Here's the list: ['esha', 'hamza', 'fabeha', 'zainab', 'salwa']\n"
          ]
        }
      ]
    },
    {
      "cell_type": "markdown",
      "source": [
        "## 08_shorten"
      ],
      "metadata": {
        "id": "2cnd70LOVaYb"
      }
    },
    {
      "cell_type": "code",
      "source": [
        "MAX_LENGTH : int = 3\n",
        "\n",
        "def shorten(lst):\n",
        "    while len(lst) > MAX_LENGTH:\n",
        "        last_elem = lst.pop()\n",
        "        print(last_elem)\n",
        "\n",
        "def get_lst():\n",
        "    lst = []\n",
        "    elem = input(\"Please enter an element of the list or press enter to stop. \")\n",
        "    while elem != \"\":\n",
        "        lst.append(elem)\n",
        "        elem = input(\"Please enter an element of the list or press enter to stop. \")\n",
        "    return lst\n",
        "\n",
        "def main():\n",
        "    lst = get_lst()\n",
        "    shorten(lst)\n",
        "\n",
        "\n",
        "if __name__ == '__main__':\n",
        "    main()"
      ],
      "metadata": {
        "colab": {
          "base_uri": "https://localhost:8080/"
        },
        "id": "xiFsIqtiVgeD",
        "outputId": "58b9ff57-5d3e-4f4b-8a51-a99bdc207da6"
      },
      "execution_count": 12,
      "outputs": [
        {
          "output_type": "stream",
          "name": "stdout",
          "text": [
            "Please enter an element of the list or press enter to stop. a\n",
            "Please enter an element of the list or press enter to stop. e\n",
            "Please enter an element of the list or press enter to stop. i\n",
            "Please enter an element of the list or press enter to stop. o\n",
            "Please enter an element of the list or press enter to stop. u\n",
            "Please enter an element of the list or press enter to stop. v\n",
            "Please enter an element of the list or press enter to stop. \n",
            "v\n",
            "u\n",
            "o\n"
          ]
        }
      ]
    }
  ]
}