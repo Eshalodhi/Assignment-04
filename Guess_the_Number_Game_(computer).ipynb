{
  "nbformat": 4,
  "nbformat_minor": 0,
  "metadata": {
    "colab": {
      "provenance": [],
      "authorship_tag": "ABX9TyPxLPZapFerUIBsDTlXZvXK",
      "include_colab_link": true
    },
    "kernelspec": {
      "name": "python3",
      "display_name": "Python 3"
    },
    "language_info": {
      "name": "python"
    }
  },
  "cells": [
    {
      "cell_type": "markdown",
      "metadata": {
        "id": "view-in-github",
        "colab_type": "text"
      },
      "source": [
        "<a href=\"https://colab.research.google.com/github/Eshalodhi/Assignment-04/blob/main/Guess_the_Number_Game_(computer).ipynb\" target=\"_parent\"><img src=\"https://colab.research.google.com/assets/colab-badge.svg\" alt=\"Open In Colab\"/></a>"
      ]
    },
    {
      "cell_type": "markdown",
      "source": [
        "## 2.Guess the Number Game (computer)"
      ],
      "metadata": {
        "id": "ioGtGuODjVvP"
      }
    },
    {
      "cell_type": "code",
      "execution_count": 1,
      "metadata": {
        "colab": {
          "base_uri": "https://localhost:8080/"
        },
        "id": "s-aZMyObjTfg",
        "outputId": "41e981d1-37fb-45cf-af33-45f02ae7a3a7"
      },
      "outputs": [
        {
          "output_type": "stream",
          "name": "stdout",
          "text": [
            "Welcome to the Number Guess Game!👋🏻\n",
            "Think of a number between 1 to 20 and computer will guess it.\n",
            "Computer guess: 16\n",
            "Is the guess too high (H), to low(L), or correct(C)? h\n",
            "Computer guess: 1\n",
            "Is the guess too high (H), to low(L), or correct(C)? l\n",
            "Computer guess: 13\n",
            "Is the guess too high (H), to low(L), or correct(C)? l\n",
            "Computer guess: 15\n",
            "Is the guess too high (H), to low(L), or correct(C)? c\n",
            "Computer guessed your number correctly✔️!🎊\n"
          ]
        }
      ],
      "source": [
        "from math import e\n",
        "import random\n",
        "print(\"Welcome to the Number Guess Game!👋🏻\")\n",
        "\n",
        "low = 1\n",
        "high = 20\n",
        "print(\"Think of a number between 1 to 20 and computer will guess it.\")\n",
        "\n",
        "if low < high:\n",
        "  computer_guess = random.randint(low, high)\n",
        "  print(f\"Computer guess: {computer_guess}\")\n",
        "\n",
        "while True:\n",
        "  feedback = input(\"Is the guess too high (H), to low(L), or correct(C)? \").strip().upper()\n",
        "  if feedback == \"C\":\n",
        "    print(\"Computer guessed your number correctly✔️!🎊\")\n",
        "    break\n",
        "  elif feedback == \"H\":\n",
        "    high = computer_guess - 1\n",
        "    computer_guess = random.randint(low, high)\n",
        "    print(f\"Computer guess: {computer_guess}\")\n",
        "  elif feedback == \"L\":\n",
        "    low = computer_guess + 1\n",
        "    computer_guess = random.randint(low, high)\n",
        "    print(f\"Computer guess: {computer_guess}\")\n",
        "  else:\n",
        "    print(\"Invalid feedback❌. Please enter H, L, or C.\")\n",
        "if low > high:\n",
        "  print(\"The number is not in the range. Please try again.😊\")"
      ]
    }
  ]
}