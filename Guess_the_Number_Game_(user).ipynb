{
  "nbformat": 4,
  "nbformat_minor": 0,
  "metadata": {
    "colab": {
      "provenance": [],
      "authorship_tag": "ABX9TyOCqbFk89iW3dvZBWHUBfMg",
      "include_colab_link": true
    },
    "kernelspec": {
      "name": "python3",
      "display_name": "Python 3"
    },
    "language_info": {
      "name": "python"
    }
  },
  "cells": [
    {
      "cell_type": "markdown",
      "metadata": {
        "id": "view-in-github",
        "colab_type": "text"
      },
      "source": [
        "<a href=\"https://colab.research.google.com/github/Eshalodhi/Assignment-04/blob/main/Guess_the_Number_Game_(user).ipynb\" target=\"_parent\"><img src=\"https://colab.research.google.com/assets/colab-badge.svg\" alt=\"Open In Colab\"/></a>"
      ]
    },
    {
      "cell_type": "markdown",
      "source": [
        "## 3.Guess the Number Game (user)"
      ],
      "metadata": {
        "id": "fJiN1BRGkG79"
      }
    },
    {
      "cell_type": "code",
      "execution_count": 1,
      "metadata": {
        "colab": {
          "base_uri": "https://localhost:8080/"
        },
        "id": "Oe6o_zngjn2k",
        "outputId": "ea0b91f5-3103-43b9-bbd7-dda2180040da"
      },
      "outputs": [
        {
          "output_type": "stream",
          "name": "stdout",
          "text": [
            "Welcome to the Number Guess Game!👋🏻\n",
            "I am thinking of a number between 1 and 100....🤔\n",
            "Enter a guess: 67\n",
            "Your guess is too high.\n",
            "Enter a guess: 50\n",
            "Your guess is too high.\n",
            "Enter a guess: 30\n",
            "Your guess is too high.\n",
            "Enter a guess: 10\n",
            "Your guess is too low.\n",
            "Enter a guess: 34\n",
            "Your guess is too high.\n",
            "Enter a guess: 25\n",
            "Your guess is too high.\n",
            "Enter a guess: 12\n",
            "Your guess is too low.\n",
            "Enter a guess: 16\n",
            "Your guess is too low.\n",
            "Enter a guess: 18\n",
            "Your guess is too low.\n",
            "Enter a guess: 19\n",
            "Your guess is too low.\n",
            "Enter a guess: 20\n",
            "Congratulation! The number was 20🎊\n"
          ]
        }
      ],
      "source": [
        "import random\n",
        "\n",
        "def main():\n",
        "  print(\"Welcome to the Number Guess Game!👋🏻\")\n",
        "  secret_number = random.randint(1,100)\n",
        "  print(\"I am thinking of a number between 1 and 100....🤔\")\n",
        "\n",
        "  guess = int(input(\"Enter a guess: \"))\n",
        "\n",
        "  while guess != secret_number:\n",
        "    if guess < secret_number:\n",
        "      print(\"Your guess is too low.\")\n",
        "    else:\n",
        "      print(\"Your guess is too high.\")\n",
        "    guess = int(input(\"Enter a guess: \"))\n",
        "\n",
        "  print(f\"Congratulation! The number was {secret_number}🎊\")\n",
        "\n",
        "\n",
        "if __name__ == \"__main__\":\n",
        "  main()"
      ]
    }
  ]
}