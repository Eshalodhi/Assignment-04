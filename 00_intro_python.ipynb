{
  "nbformat": 4,
  "nbformat_minor": 0,
  "metadata": {
    "colab": {
      "provenance": [],
      "authorship_tag": "ABX9TyM0cVUavdOHtFtnCA+9ZbN5",
      "include_colab_link": true
    },
    "kernelspec": {
      "name": "python3",
      "display_name": "Python 3"
    },
    "language_info": {
      "name": "python"
    }
  },
  "cells": [
    {
      "cell_type": "markdown",
      "metadata": {
        "id": "view-in-github",
        "colab_type": "text"
      },
      "source": [
        "<a href=\"https://colab.research.google.com/github/Eshalodhi/Assignment-04/blob/main/00_intro_python.ipynb\" target=\"_parent\"><img src=\"https://colab.research.google.com/assets/colab-badge.svg\" alt=\"Open In Colab\"/></a>"
      ]
    },
    {
      "cell_type": "markdown",
      "source": [
        "## 01_add_two_numbers"
      ],
      "metadata": {
        "id": "qEvdTKe52eRC"
      }
    },
    {
      "cell_type": "code",
      "execution_count": 5,
      "metadata": {
        "id": "lbbKKJPcwenn",
        "colab": {
          "base_uri": "https://localhost:8080/"
        },
        "outputId": "a157f808-11d6-4fb0-d4bf-3f656eaccb08"
      },
      "outputs": [
        {
          "output_type": "stream",
          "name": "stdout",
          "text": [
            "Enter a Number10\n",
            "Enter a Number5\n",
            "The total sum of 10 and 5 is 15\n"
          ]
        }
      ],
      "source": [
        "def add():\n",
        "  first_number = int(input(\"Enter a Number \"))\n",
        "  second_number = int(input(\"Enter a Number \"))\n",
        "  total = int(first_number + second_number)\n",
        "  print(f\"The total sum of {first_number} and {second_number} is {total}\")\n",
        "if __name__ == \"__main__\":\n",
        "  add()"
      ]
    },
    {
      "cell_type": "markdown",
      "source": [
        "## 02_agreement_bot\n",
        "\n"
      ],
      "metadata": {
        "id": "at6LMZVf44iU"
      }
    },
    {
      "cell_type": "code",
      "source": [
        "def bot():\n",
        "  animal = str(input(\"What is your favourite Animal? \"))\n",
        "  print(f\"My favorite animal is also {animal}!\")\n",
        "if __name__ == \"__main__\":\n",
        "  bot()"
      ],
      "metadata": {
        "colab": {
          "base_uri": "https://localhost:8080/"
        },
        "id": "eeR-uJKr317a",
        "outputId": "d5148d3e-619f-487c-c6cd-400939358706"
      },
      "execution_count": 6,
      "outputs": [
        {
          "output_type": "stream",
          "name": "stdout",
          "text": [
            "What is your favourite Animal?Rabbit\n",
            "My favorite animal is also Rabbit!\n"
          ]
        }
      ]
    },
    {
      "cell_type": "markdown",
      "source": [
        "## 03_fahrenheit_to_celsius"
      ],
      "metadata": {
        "id": "yb02sljT6gYF"
      }
    },
    {
      "cell_type": "code",
      "source": [
        "def main():\n",
        "  Fahrenheit_degree =  float(input(\"Enter your Fahrenheit degree \"))\n",
        "  Celsius_degree = (Fahrenheit_degree - 32) * 5.0/9.0\n",
        "  print(f\"Temperature  {Fahrenheit_degree} = {Celsius_degree}\")\n",
        "\n",
        "if __name__ == \"__main__\":\n",
        "  main()"
      ],
      "metadata": {
        "colab": {
          "base_uri": "https://localhost:8080/"
        },
        "id": "sVVCqZSR6iJK",
        "outputId": "ec7aec26-faba-4134-9496-595868e85fcd"
      },
      "execution_count": 8,
      "outputs": [
        {
          "output_type": "stream",
          "name": "stdout",
          "text": [
            "Enter your Fahrenheit degree 67\n",
            "Temperature  67.0 = 19.444444444444443\n"
          ]
        }
      ]
    },
    {
      "cell_type": "markdown",
      "source": [
        "## 04_how_old_are_they"
      ],
      "metadata": {
        "id": "QaYNstYU8l3_"
      }
    },
    {
      "cell_type": "code",
      "source": [
        "def add_ages():\n",
        "  Anthon:int = 21\n",
        "  Beth:int = Anthon + 6\n",
        "  Chen:int = Beth + 20\n",
        "  Drew:int = Chen + Anthon\n",
        "  Ethan:int = Chen\n",
        "\n",
        "  print(\"Anthon is \" + str(Anthon))\n",
        "  print(\"Beth is \" + str(Beth))\n",
        "  print(\"Chen is \" + str(Chen))\n",
        "  print(\"Drew is \" + str(Drew))\n",
        "  print(\"Ethan is \" + str(Ethan))\n",
        "\n",
        "if __name__ == \"__main__\":\n",
        " add_ages()"
      ],
      "metadata": {
        "colab": {
          "base_uri": "https://localhost:8080/"
        },
        "id": "FcZHlqUJ8n6U",
        "outputId": "46d0effd-2c13-4ab3-db0d-f5a1611d48e0"
      },
      "execution_count": 10,
      "outputs": [
        {
          "output_type": "stream",
          "name": "stdout",
          "text": [
            "Anthon is 21\n",
            "Beth is 27\n",
            "Chen is 47\n",
            "Drew is 68\n",
            "Ethan is 47\n"
          ]
        }
      ]
    },
    {
      "cell_type": "markdown",
      "source": [
        "## 05_triangle_perimeter"
      ],
      "metadata": {
        "id": "zYvcZl5DE0aa"
      }
    },
    {
      "cell_type": "code",
      "source": [
        "def triangle():\n",
        "  side1:float = float(input(\"Enter your first side no of triangle. \"))\n",
        "  side2:float = float(input(\"Enter your second side no of triangle. \"))\n",
        "  side3:float = float(input(\"Enter your third side no of triangle. \"))\n",
        "  total:float = float(side1 + side2 + side3)\n",
        "  print(f\"The perimeter of the triangle is is {total}\")\n",
        "\n",
        "if __name__ == \"__main__\":\n",
        "  triangle()"
      ],
      "metadata": {
        "colab": {
          "base_uri": "https://localhost:8080/"
        },
        "id": "2k1UcRodE1zn",
        "outputId": "6fc81b13-a408-46dd-b4bf-b61713a33220"
      },
      "execution_count": 13,
      "outputs": [
        {
          "output_type": "stream",
          "name": "stdout",
          "text": [
            "Enter your first side no of triangle. 3\n",
            "Enter your second side no of triangle. 4\n",
            "Enter your third side no of triangle. 5.5\n",
            "The perimeter of the triangle is is 12.5\n"
          ]
        }
      ]
    },
    {
      "cell_type": "markdown",
      "source": [
        "## 06_square_numbe"
      ],
      "metadata": {
        "id": "bwQDkBrsH1of"
      }
    },
    {
      "cell_type": "code",
      "source": [
        "def square():\n",
        "  num1:int = int(input(\"Enter a number & see the square value. \"))\n",
        "  print(f\"The square of {num1} is {num1 ** 2}\")\n",
        "\n",
        "if __name__ == \"__main__\":\n",
        "  square()"
      ],
      "metadata": {
        "colab": {
          "base_uri": "https://localhost:8080/"
        },
        "id": "h39t4f9pH3fh",
        "outputId": "998a0ec4-041b-4b28-d6af-edcba16a660d"
      },
      "execution_count": 16,
      "outputs": [
        {
          "output_type": "stream",
          "name": "stdout",
          "text": [
            "Enter a number & see the square value. 8\n",
            "The square of 8 is 64\n"
          ]
        }
      ]
    }
  ]
}