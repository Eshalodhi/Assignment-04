{
  "nbformat": 4,
  "nbformat_minor": 0,
  "metadata": {
    "colab": {
      "provenance": [],
      "authorship_tag": "ABX9TyMNIZLv2SD04+U/XzhqVFSX",
      "include_colab_link": true
    },
    "kernelspec": {
      "name": "python3",
      "display_name": "Python 3"
    },
    "language_info": {
      "name": "python"
    }
  },
  "cells": [
    {
      "cell_type": "markdown",
      "metadata": {
        "id": "view-in-github",
        "colab_type": "text"
      },
      "source": [
        "<a href=\"https://colab.research.google.com/github/Eshalodhi/Assignment-04/blob/main/04_dictionaries.ipynb\" target=\"_parent\"><img src=\"https://colab.research.google.com/assets/colab-badge.svg\" alt=\"Open In Colab\"/></a>"
      ]
    },
    {
      "cell_type": "markdown",
      "source": [
        "## 00_count_nums"
      ],
      "metadata": {
        "id": "YBbvX2qiMM_-"
      }
    },
    {
      "cell_type": "code",
      "execution_count": 20,
      "metadata": {
        "colab": {
          "base_uri": "https://localhost:8080/"
        },
        "id": "3UgelOTZMAB_",
        "outputId": "17099fc6-08da-4f2a-9c06-6958337b1981"
      },
      "outputs": [
        {
          "output_type": "stream",
          "name": "stdout",
          "text": [
            "Enter a number (or 'Exit' to quit): 7\n",
            "Enter a number (or 'Exit' to quit): 8\n",
            "Enter a number (or 'Exit' to quit): 4\n",
            "Enter a number (or 'Exit' to quit): 2\n",
            "Enter a number (or 'Exit' to quit): 6\n",
            "Enter a number (or 'Exit' to quit): 6\n",
            "Enter a number (or 'Exit' to quit): 8\n",
            "Enter a number (or 'Exit' to quit): 0\n",
            "Enter a number (or 'Exit' to quit): exit\n",
            "\n",
            "Number Counts:\n",
            "7 appears 1 times\n",
            "8 appears 2 times\n",
            "4 appears 1 times\n",
            "2 appears 1 times\n",
            "6 appears 2 times\n",
            "0 appears 1 times\n"
          ]
        }
      ],
      "source": [
        "def count_numbers():\n",
        "    count_dict = {}\n",
        "\n",
        "    while True:\n",
        "        num = input(\"Enter a number (or 'Exit' to quit): \")\n",
        "        if num.title() == 'Exit':\n",
        "            break\n",
        "        if num.isdigit():\n",
        "            num = int(num)\n",
        "            count_dict[num] = count_dict.get(num, 0) + 1\n",
        "        else:\n",
        "            print(\"Invalid input. Please enter a number or 'Exit'.\")\n",
        "\n",
        "    return count_dict\n",
        "\n",
        "def display_counts(count_dict):\n",
        "    print(\"\\nNumber Counts:\")\n",
        "    for key, value in count_dict.items():\n",
        "        print(f\"{key} appears {value} times\")\n",
        "\n",
        "if __name__ == \"__main__\":\n",
        "    counts = count_numbers()\n",
        "    display_counts(counts)\n"
      ]
    },
    {
      "cell_type": "markdown",
      "source": [
        "## 01_phonebook"
      ],
      "metadata": {
        "id": "6tMBlTAYVYha"
      }
    },
    {
      "cell_type": "code",
      "source": [
        "def add_contact(phonebook\\):\n",
        "  name = input(\"Enter Contact Name: \")\n",
        "  number = input(\"Enter Contact number: \")\n",
        "\n",
        "  if name in phonebook:\n",
        "    print(f\"{name} already exits in th phonebook.\")\n",
        "  else:\n",
        "    phonebook[name] = number\n",
        "    print(f\"{name} added to the phonebook.\")\n",
        "\n",
        "def search_contact(phonebook):\n",
        "  name = input(\"Enter contact name to search: \")\n",
        "\n",
        "  if name in phonebook:\n",
        "    print(f\"{name}: {phonebook[name]}\")\n",
        "  else:\n",
        "    print(f\"{name} not found in the phonebook.\")\n",
        "\n",
        "def delete_contact(phonebook):\n",
        "  name  = input(\"Enter contact name to delete: \")\n",
        "  if name in phonebook:\n",
        "    del phonebook[name]\n",
        "    print(f\"{name} deleted from the phonebook.\")\n",
        "  else:\n",
        "    print(f\"{name} not found in phonebook.\")\n",
        "\n",
        "def display_contact(phonebook):\n",
        "  if phonebook:\n",
        "    print(\"\\n Phonebook Contacts list\")\n",
        "    for name,number in phonebook.items():\n",
        "      print(f\"{name}: {number}\")\n",
        "    else:\n",
        "      print(f\"Phonebook is empty.\")\n",
        "\n",
        "if __name__ == \"__main__\":\n",
        "  phonebook = {}\n",
        "\n",
        "while True:\n",
        "  print(\"\\n Phonebook Menu\")\n",
        "  print(\"1.Add contact\")\n",
        "  print(\"2.Search contact\")\n",
        "  print(\"3.Delete contact\")\n",
        "  print(\"4.Display contact\")\n",
        "  print(\"5.Exit\")\n",
        "\n",
        "  choice = input(\"Enter your choice (1-5): \")\n",
        "\n",
        "  if choice == \"1\":\n",
        "    add_contact(phonebook)\n",
        "  elif choice == \"2\":\n",
        "    search_contact(phonebook)\n",
        "  elif choice == \"3\":\n",
        "    delete_contact(phonebook)\n",
        "  elif choice == \"4\":\n",
        "    display_contact(phonebook)\n",
        "  elif choice == \"5\":\n",
        "    print(\"Exiting Phonebook. Goodbye!\")\n",
        "    break\n",
        "  else:\n",
        "    print(\"Invalid choice. Please enter a number between 1 to 5.\")"
      ],
      "metadata": {
        "colab": {
          "base_uri": "https://localhost:8080/"
        },
        "id": "3OvlozFmVZ3X",
        "outputId": "9ef6428f-4946-4983-e9e7-62981fd48d9a"
      },
      "execution_count": 22,
      "outputs": [
        {
          "output_type": "stream",
          "name": "stdout",
          "text": [
            "\n",
            " Phonebook Menu\n",
            "1.Add contact\n",
            "2.Search contact\n",
            "3.Delete contact\n",
            "4.Display contact\n",
            "5.Exit\n",
            "Enter your choice (1-5): 1\n",
            "Enter Contact Name: Esha Khan\n",
            "Enter Contact number: 03100036482\n",
            "Esha Khan added to the phonebook.\n",
            "\n",
            " Phonebook Menu\n",
            "1.Add contact\n",
            "2.Search contact\n",
            "3.Delete contact\n",
            "4.Display contact\n",
            "5.Exit\n",
            "Enter your choice (1-5): 1\n",
            "Enter Contact Name: Miss khan Lodhi\n",
            "Enter Contact number: 03070275320\n",
            "Miss khan Lodhi added to the phonebook.\n",
            "\n",
            " Phonebook Menu\n",
            "1.Add contact\n",
            "2.Search contact\n",
            "3.Delete contact\n",
            "4.Display contact\n",
            "5.Exit\n",
            "Enter your choice (1-5): 2\n",
            "Enter contact name to search: Esha Khan\n",
            "Esha Khan: 03100036482\n",
            "\n",
            " Phonebook Menu\n",
            "1.Add contact\n",
            "2.Search contact\n",
            "3.Delete contact\n",
            "4.Display contact\n",
            "5.Exit\n",
            "Enter your choice (1-5): 3\n",
            "Enter contact name to delete: Miss khan Lodhi\n",
            "Miss khan Lodhi deleted from the phonebook.\n",
            "\n",
            " Phonebook Menu\n",
            "1.Add contact\n",
            "2.Search contact\n",
            "3.Delete contact\n",
            "4.Display contact\n",
            "5.Exit\n",
            "Enter your choice (1-5): 4\n",
            "\n",
            " Phonebook Contacts list\n",
            "Esha Khan: 03100036482\n",
            "Phonebook is empty.\n",
            "\n",
            " Phonebook Menu\n",
            "1.Add contact\n",
            "2.Search contact\n",
            "3.Delete contact\n",
            "4.Display contact\n",
            "5.Exit\n",
            "Enter your choice (1-5): 1\n",
            "Enter Contact Name: Miss khan Lodhi\n",
            "Enter Contact number: 03070275320\n",
            "Miss khan Lodhi added to the phonebook.\n",
            "\n",
            " Phonebook Menu\n",
            "1.Add contact\n",
            "2.Search contact\n",
            "3.Delete contact\n",
            "4.Display contact\n",
            "5.Exit\n",
            "Enter your choice (1-5): 4\n",
            "\n",
            " Phonebook Contacts list\n",
            "Esha Khan: 03100036482\n",
            "Miss khan Lodhi: 03070275320\n",
            "Phonebook is empty.\n",
            "\n",
            " Phonebook Menu\n",
            "1.Add contact\n",
            "2.Search contact\n",
            "3.Delete contact\n",
            "4.Display contact\n",
            "5.Exit\n",
            "Enter your choice (1-5): 5\n",
            "Exiting Phonebook. Goodbye!\n"
          ]
        }
      ]
    },
    {
      "cell_type": "markdown",
      "source": [
        "## 02_pop_up_shop"
      ],
      "metadata": {
        "id": "Uh79JFqGdvNM"
      }
    },
    {
      "cell_type": "code",
      "source": [
        "def main():\n",
        "    fruits = {'apple': 1.5,\n",
        "              'durian': 50,\n",
        "              'jackfruit': 80,\n",
        "              'kiwi': 1,\n",
        "              'rambutan': 1.5,\n",
        "              'mango': 5}\n",
        "\n",
        "    total_cost = 0\n",
        "    for fruit_name in fruits:\n",
        "        price = fruits[fruit_name]\n",
        "        amount_bought = int(input(\"How many (\" + fruit_name + \") do you want to buy?: \"))\n",
        "        total_cost += (price * amount_bought)\n",
        "\n",
        "    print(\"Your total is $\" + str(total_cost))\n",
        "\n",
        "if __name__ == '__main__':\n",
        "    main()"
      ],
      "metadata": {
        "colab": {
          "base_uri": "https://localhost:8080/"
        },
        "id": "_8ooH7BCdyvB",
        "outputId": "f1d950b9-5c40-4401-bac9-dea4a4990b04"
      },
      "execution_count": 24,
      "outputs": [
        {
          "output_type": "stream",
          "name": "stdout",
          "text": [
            "How many (apple) do you want to buy?: 2\n",
            "How many (durian) do you want to buy?: 0\n",
            "How many (jackfruit) do you want to buy?: 1\n",
            "How many (kiwi) do you want to buy?: 0\n",
            "How many (rambutan) do you want to buy?: 1\n",
            "How many (mango) do you want to buy?: 3\n",
            "Your total is $99.5\n"
          ]
        }
      ]
    },
    {
      "cell_type": "markdown",
      "source": [
        "## 03_powerful_passwords"
      ],
      "metadata": {
        "id": "56eNLNhrea1Y"
      }
    },
    {
      "cell_type": "code",
      "source": [
        "import hashlib\n",
        "\n",
        "def hash_password(password):\n",
        "  return hashlib.sha256(password.encode()).hexdigest()\n",
        "\n",
        "stored_logins = {\n",
        "     \"user1@example.com\": hash_password(\"password01\"),\n",
        "     \"user2@example.com\": hash_password(\"password20\"),\n",
        "     \"user3@example.com\": hash_password(\"password34\")\n",
        "}\n",
        "\n",
        "def login(email,password):\n",
        "  if email in stored_logins:\n",
        "    return stored_logins[email] == hash_password(password)\n",
        "  return False\n",
        "\n",
        "\n",
        "if __name__ == \"__main__\":\n",
        "  email = input(\"Enter your email: \")\n",
        "  password = input(\"Enter your password: \")\n",
        "\n",
        "\n",
        "  if login(email,password):\n",
        "    print(\"Login successful!\")\n",
        "  else:\n",
        "    print(\"Invalid email or password.\")\n"
      ],
      "metadata": {
        "colab": {
          "base_uri": "https://localhost:8080/"
        },
        "id": "mwJya_aPedRf",
        "outputId": "b837998a-f8d7-40ff-d612-94b53db5e2c7"
      },
      "execution_count": 41,
      "outputs": [
        {
          "output_type": "stream",
          "name": "stdout",
          "text": [
            "Enter your email: esha7392@gmail.com\n",
            "Enter your password: 2132\n",
            "Invalid email or password.\n"
          ]
        }
      ]
    }
  ]
}