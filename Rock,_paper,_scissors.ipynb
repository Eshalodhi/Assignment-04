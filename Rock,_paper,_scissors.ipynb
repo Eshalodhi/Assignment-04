{
  "nbformat": 4,
  "nbformat_minor": 0,
  "metadata": {
    "colab": {
      "provenance": [],
      "authorship_tag": "ABX9TyNUMFHllg1whbKTG/yC6Y/x",
      "include_colab_link": true
    },
    "kernelspec": {
      "name": "python3",
      "display_name": "Python 3"
    },
    "language_info": {
      "name": "python"
    }
  },
  "cells": [
    {
      "cell_type": "markdown",
      "metadata": {
        "id": "view-in-github",
        "colab_type": "text"
      },
      "source": [
        "<a href=\"https://colab.research.google.com/github/Eshalodhi/Assignment-04/blob/main/Rock%2C_paper%2C_scissors.ipynb\" target=\"_parent\"><img src=\"https://colab.research.google.com/assets/colab-badge.svg\" alt=\"Open In Colab\"/></a>"
      ]
    },
    {
      "cell_type": "markdown",
      "source": [
        "## 4.Rock, paper, scissors"
      ],
      "metadata": {
        "id": "zc9N86nvkzyT"
      }
    },
    {
      "cell_type": "code",
      "execution_count": 1,
      "metadata": {
        "colab": {
          "base_uri": "https://localhost:8080/"
        },
        "id": "wJwHi1ttkWX2",
        "outputId": "1ec04c47-4318-4cc6-b9d7-1dac96df86ed"
      },
      "outputs": [
        {
          "output_type": "stream",
          "name": "stdout",
          "text": [
            "\n",
            " ✨Welcome to the Rock 🪨 Paper 📄 Scissor ✂️ Game.✨ \n",
            "\n",
            "🎲 Let's play Rock, Paper, Scissors with a twist! 🎉 (Type 'q' to quit)\n",
            "👉 Your move (rock/paper/scissor): rock\n",
            "🤖 Computer chose: 📄 paper\n",
            "💀 You lose this round!\n",
            "📊 Score: You 0 - 1 Computer\n",
            "\n",
            "👉 Your move (rock/paper/scissor): paper\n",
            "🤖 Computer chose: 📄 paper\n",
            "🤝 It's a tie!\n",
            "📊 Score: You 0 - 1 Computer\n",
            "\n",
            "👉 Your move (rock/paper/scissor): paper\n",
            "🤖 Computer chose: 📄 paper\n",
            "🤝 It's a tie!\n",
            "📊 Score: You 0 - 1 Computer\n",
            "\n",
            "👉 Your move (rock/paper/scissor): scissor\n",
            "🤖 Computer chose: 🪨 rock\n",
            "💀 You lose this round!\n",
            "📊 Score: You 0 - 2 Computer\n",
            "\n",
            "👉 Your move (rock/paper/scissor): paper\n",
            "🤖 Computer chose: 📄 paper\n",
            "🤝 It's a tie!\n",
            "📊 Score: You 0 - 2 Computer\n",
            "\n",
            "👉 Your move (rock/paper/scissor): q\n",
            "🏆 Final Score - You: 0 | Computer: 2\n",
            "👋 Nice Play! Thanks for playing.\n"
          ]
        }
      ],
      "source": [
        "import random\n",
        "print(\"\\n ✨Welcome to the Rock 🪨 Paper 📄 Scissor ✂️ Game.✨ \\n\")\n",
        "\n",
        "choices={\"rock\":\"🪨\",\"paper\":\"📄\",\"scissor\":\"✂️\"}\n",
        "user_score = computer_score = 0\n",
        "\n",
        "print(\"🎲 Let's play Rock, Paper, Scissors with a twist! 🎉 (Type 'q' to quit)\")\n",
        "\n",
        "while True:\n",
        "  user = input(\"👉 Your move (rock/paper/scissor): \").lower()\n",
        "  if user == 'q':\n",
        "    print(f\"🏆 Final Score - You: {user_score} | Computer: {computer_score}\")\n",
        "    print(\"👋 Nice Play! Thanks for playing.\")\n",
        "    break\n",
        "    if user not in choices:\n",
        "        print(\"⚠️ Invalid choice! Try again.\")\n",
        "        continue\n",
        "  computer = random.choice(list(choices))\n",
        "  print(f\"🤖 Computer chose: {choices[computer]} {computer}\")\n",
        "\n",
        "  if user == computer:\n",
        "      print(\"🤝 It's a tie!\")\n",
        "  elif (user == \"rock\" and computer == \"scissors\") or \\\n",
        "        (user == \"paper\" and computer == \"rock\") or \\\n",
        "        (user == \"scissors\" and computer == \"paper\"):\n",
        "        user_score += 1\n",
        "        print(\"🎉 You win this round!\")\n",
        "  else:\n",
        "        computer_score += 1\n",
        "        print(\"💀 You lose this round!\")\n",
        "\n",
        "  print(f\"📊 Score: You {user_score} - {computer_score} Computer\\n\")"
      ]
    }
  ]
}